{
 "cells": [
  {
   "cell_type": "markdown",
   "metadata": {},
   "source": [
    "## AWS Comprehend API"
   ]
  },
  {
   "cell_type": "code",
   "execution_count": 1,
   "metadata": {
    "collapsed": true
   },
   "outputs": [],
   "source": [
    "import pandas as pd\n",
    "import boto3\n",
    "import json"
   ]
  },
  {
   "cell_type": "code",
   "execution_count": 2,
   "metadata": {
    "collapsed": false
   },
   "outputs": [],
   "source": [
    "comprehend = boto3.client(service_name=\"comprehend\", region_name = \"us-east-1\")"
   ]
  },
  {
   "cell_type": "code",
   "execution_count": 6,
   "metadata": {
    "collapsed": false
   },
   "outputs": [
    {
     "name": "stdout",
     "output_type": "stream",
     "text": [
      "Calling DetectSentiment\n",
      "{\n",
      "    \"ResponseMetadata\": {\n",
      "        \"HTTPHeaders\": {\n",
      "            \"connection\": \"keep-alive\",\n",
      "            \"content-length\": \"166\",\n",
      "            \"content-type\": \"application/x-amz-json-1.1\",\n",
      "            \"date\": \"Mon, 12 Mar 2018 06:06:07 GMT\",\n",
      "            \"x-amzn-requestid\": \"74212065-25bb-11e8-99ea-47832b96056c\"\n",
      "        },\n",
      "        \"HTTPStatusCode\": 200,\n",
      "        \"RequestId\": \"74212065-25bb-11e8-99ea-47832b96056c\",\n",
      "        \"RetryAttempts\": 0\n",
      "    },\n",
      "    \"Sentiment\": \"POSITIVE\",\n",
      "    \"SentimentScore\": {\n",
      "        \"Mixed\": 0.0030625148210674524,\n",
      "        \"Negative\": 0.0008586397161707282,\n",
      "        \"Neutral\": 0.056969016790390015,\n",
      "        \"Positive\": 0.9391098618507385\n",
      "    }\n",
      "}\n",
      "End of DetectSentiment\n",
      "\n"
     ]
    }
   ],
   "source": [
    "text = \"I love Kevin Durant!\"\n",
    "print('Calling DetectSentiment')\n",
    "print(json.dumps(comprehend.detect_sentiment(Text=text, LanguageCode='en'), sort_keys=True, indent=4))\n",
    "print('End of DetectSentiment\\n')"
   ]
  },
  {
   "cell_type": "code",
   "execution_count": 7,
   "metadata": {
    "collapsed": false
   },
   "outputs": [
    {
     "name": "stdout",
     "output_type": "stream",
     "text": [
      "Calling DetectSentiment\n",
      "{\n",
      "    \"ResponseMetadata\": {\n",
      "        \"HTTPHeaders\": {\n",
      "            \"connection\": \"keep-alive\",\n",
      "            \"content-length\": \"163\",\n",
      "            \"content-type\": \"application/x-amz-json-1.1\",\n",
      "            \"date\": \"Mon, 12 Mar 2018 06:06:33 GMT\",\n",
      "            \"x-amzn-requestid\": \"83e47747-25bb-11e8-b5ce-a91012e512cb\"\n",
      "        },\n",
      "        \"HTTPStatusCode\": 200,\n",
      "        \"RequestId\": \"83e47747-25bb-11e8-b5ce-a91012e512cb\",\n",
      "        \"RetryAttempts\": 0\n",
      "    },\n",
      "    \"Sentiment\": \"NEGATIVE\",\n",
      "    \"SentimentScore\": {\n",
      "        \"Mixed\": 0.058673836290836334,\n",
      "        \"Negative\": 0.6685217022895813,\n",
      "        \"Neutral\": 0.12504127621650696,\n",
      "        \"Positive\": 0.14776316285133362\n",
      "    }\n",
      "}\n",
      "End of DetectSentiment\n",
      "\n"
     ]
    }
   ],
   "source": [
    "text = \"I hate that you love her!\"\n",
    "print('Calling DetectSentiment')\n",
    "print(json.dumps(comprehend.detect_sentiment(Text=text, LanguageCode='en'), sort_keys=True, indent=4))\n",
    "print('End of DetectSentiment\\n')"
   ]
  },
  {
   "cell_type": "code",
   "execution_count": 13,
   "metadata": {
    "collapsed": false
   },
   "outputs": [
    {
     "name": "stdout",
     "output_type": "stream",
     "text": [
      "Calling DetectSentiment\n",
      "{\n",
      "    \"ResponseMetadata\": {\n",
      "        \"HTTPHeaders\": {\n",
      "            \"connection\": \"keep-alive\",\n",
      "            \"content-length\": \"163\",\n",
      "            \"content-type\": \"application/x-amz-json-1.1\",\n",
      "            \"date\": \"Mon, 12 Mar 2018 06:07:49 GMT\",\n",
      "            \"x-amzn-requestid\": \"b1227e92-25bb-11e8-9bab-4dcb52f23022\"\n",
      "        },\n",
      "        \"HTTPStatusCode\": 200,\n",
      "        \"RequestId\": \"b1227e92-25bb-11e8-9bab-4dcb52f23022\",\n",
      "        \"RetryAttempts\": 0\n",
      "    },\n",
      "    \"Sentiment\": \"NEGATIVE\",\n",
      "    \"SentimentScore\": {\n",
      "        \"Mixed\": 0.03930344432592392,\n",
      "        \"Negative\": 0.7169980406761169,\n",
      "        \"Neutral\": 0.19136717915534973,\n",
      "        \"Positive\": 0.052331339567899704\n",
      "    }\n",
      "}\n",
      "End of DetectSentiment\n",
      "\n"
     ]
    }
   ],
   "source": [
    "text = \"why do you not respond I love you back!\"\n",
    "print('Calling DetectSentiment')\n",
    "print(json.dumps(comprehend.detect_sentiment(Text=text, LanguageCode='en'), sort_keys=True, indent=4))\n",
    "print('End of DetectSentiment\\n')"
   ]
  },
  {
   "cell_type": "markdown",
   "metadata": {
    "collapsed": true
   },
   "source": [
    "## Google Cloud Plateform Cloud Natural Language API"
   ]
  },
  {
   "cell_type": "code",
   "execution_count": 10,
   "metadata": {
    "collapsed": false,
    "scrolled": true
   },
   "outputs": [],
   "source": [
    "# Imports the Google Cloud client library\n",
    "from google.cloud import language\n",
    "from google.cloud.language import enums\n",
    "from google.cloud.language import types"
   ]
  },
  {
   "cell_type": "code",
   "execution_count": 11,
   "metadata": {
    "collapsed": true
   },
   "outputs": [],
   "source": [
    "import os\n",
    "os.environ[\"GOOGLE_APPLICATION_CREDENTIALS\"]=\"/Users/ChuanShi/gcp_credential.json\""
   ]
  },
  {
   "cell_type": "code",
   "execution_count": 12,
   "metadata": {
    "collapsed": false
   },
   "outputs": [
    {
     "data": {
      "text/plain": [
       "[name: \"Kevin Durant\"\n",
       "type: PERSON\n",
       "metadata {\n",
       "  key: \"mid\"\n",
       "  value: \"/m/0gxrc1\"\n",
       "}\n",
       "metadata {\n",
       "  key: \"wikipedia_url\"\n",
       "  value: \"https://en.wikipedia.org/wiki/Kevin_Wayne_Durant\"\n",
       "}\n",
       "salience: 0.8991044759750366\n",
       "mentions {\n",
       "  text {\n",
       "    content: \"Kevin Durant\"\n",
       "    begin_offset: -1\n",
       "  }\n",
       "  type: PROPER\n",
       "}\n",
       ", name: \"Cleveland Cavaliers\"\n",
       "type: ORGANIZATION\n",
       "metadata {\n",
       "  key: \"mid\"\n",
       "  value: \"/m/0jm7n\"\n",
       "}\n",
       "metadata {\n",
       "  key: \"wikipedia_url\"\n",
       "  value: \"https://en.wikipedia.org/wiki/Cleveland_Cavaliers\"\n",
       "}\n",
       "salience: 0.10089549422264099\n",
       "mentions {\n",
       "  text {\n",
       "    content: \"Cleveland Cavaliers\"\n",
       "    begin_offset: -1\n",
       "  }\n",
       "  type: PROPER\n",
       "}\n",
       "]"
      ]
     },
     "execution_count": 12,
     "metadata": {},
     "output_type": "execute_result"
    }
   ],
   "source": [
    "text = \"Kevin Durant plays for the Cleveland Cavaliers.\"\n",
    "client = language.LanguageServiceClient()\n",
    "document = types.Document(\n",
    "        content=text,\n",
    "        type=enums.Document.Type.PLAIN_TEXT)\n",
    "entities = client.analyze_entities(document).entities\n",
    "entities"
   ]
  }
 ],
 "metadata": {
  "kernelspec": {
   "display_name": "Python 3",
   "language": "python",
   "name": "python3"
  },
  "language_info": {
   "codemirror_mode": {
    "name": "ipython",
    "version": 3
   },
   "file_extension": ".py",
   "mimetype": "text/x-python",
   "name": "python",
   "nbconvert_exporter": "python",
   "pygments_lexer": "ipython3",
   "version": "3.6.0"
  }
 },
 "nbformat": 4,
 "nbformat_minor": 2
}
