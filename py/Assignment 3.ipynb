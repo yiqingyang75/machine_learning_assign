{
 "cells": [
  {
   "cell_type": "code",
   "execution_count": 1,
   "metadata": {
    "collapsed": false,
    "scrolled": true
   },
   "outputs": [
    {
     "name": "stderr",
     "output_type": "stream",
     "text": [
      "C:\\Users\\yiqin\\Anaconda3\\lib\\site-packages\\ggplot\\utils.py:81: FutureWarning: pandas.tslib is deprecated and will be removed in a future version.\n",
      "You can access Timestamp as pandas.Timestamp\n",
      "  pd.tslib.Timestamp,\n",
      "C:\\Users\\yiqin\\Anaconda3\\lib\\site-packages\\ggplot\\stats\\smoothers.py:4: FutureWarning: The pandas.lib module is deprecated and will be removed in a future version. These are private functions and can be accessed from pandas._libs.lib instead\n",
      "  from pandas.lib import Timestamp\n",
      "C:\\Users\\yiqin\\Anaconda3\\lib\\site-packages\\statsmodels\\compat\\pandas.py:56: FutureWarning: The pandas.core.datetools module is deprecated and will be removed in a future version. Please use the pandas.tseries module instead.\n",
      "  from pandas.core import datetools\n"
     ]
    }
   ],
   "source": [
    "import pandas as pd\n",
    "import numpy as np\n",
    "import matplotlib.pyplot as plt  \n",
    "import seaborn as sns\n",
    "from ggplot import *\n",
    "%matplotlib inline\n",
    "import re\n",
    "from sklearn.model_selection import train_test_split"
   ]
  },
  {
   "cell_type": "code",
   "execution_count": 2,
   "metadata": {
    "collapsed": true
   },
   "outputs": [],
   "source": [
    "def get_price(x):\n",
    "    try:\n",
    "        x = float(re.sub(\"[a-zA-Z$]\",\"\",x))\n",
    "        return x\n",
    "    except:\n",
    "        return np.nan"
   ]
  },
  {
   "cell_type": "code",
   "execution_count": 15,
   "metadata": {
    "collapsed": false,
    "scrolled": false
   },
   "outputs": [
    {
     "data": {
      "text/html": [
       "<div>\n",
       "<style scoped>\n",
       "    .dataframe tbody tr th:only-of-type {\n",
       "        vertical-align: middle;\n",
       "    }\n",
       "\n",
       "    .dataframe tbody tr th {\n",
       "        vertical-align: top;\n",
       "    }\n",
       "\n",
       "    .dataframe thead th {\n",
       "        text-align: right;\n",
       "    }\n",
       "</style>\n",
       "<table border=\"1\" class=\"dataframe\">\n",
       "  <thead>\n",
       "    <tr style=\"text-align: right;\">\n",
       "      <th></th>\n",
       "      <th>Product_Collection</th>\n",
       "      <th>Vertical_Segment</th>\n",
       "      <th>Processor_Number</th>\n",
       "      <th>Status</th>\n",
       "      <th>Launch_Date</th>\n",
       "      <th>Lithography</th>\n",
       "      <th>nb_of_Cores</th>\n",
       "      <th>nb_of_Threads</th>\n",
       "      <th>Processor_Base_Frequency</th>\n",
       "      <th>Max_Turbo_Frequency</th>\n",
       "      <th>...</th>\n",
       "      <th>Intel_Hyper_Threading_Technology_</th>\n",
       "      <th>Intel_Virtualization_Technology_VTx_</th>\n",
       "      <th>Intel_64_</th>\n",
       "      <th>Instruction_Set</th>\n",
       "      <th>Instruction_Set_Extensions</th>\n",
       "      <th>Idle_States</th>\n",
       "      <th>Thermal_Monitoring_Technologies</th>\n",
       "      <th>Secure_Key</th>\n",
       "      <th>Execute_Disable_Bit</th>\n",
       "      <th>price</th>\n",
       "    </tr>\n",
       "  </thead>\n",
       "  <tbody>\n",
       "    <tr>\n",
       "      <th>0</th>\n",
       "      <td>7th Generation Intel® Core™ i7 Processors</td>\n",
       "      <td>Mobile</td>\n",
       "      <td>i7-7Y75</td>\n",
       "      <td>Launched</td>\n",
       "      <td>Q3'16</td>\n",
       "      <td>14 nm</td>\n",
       "      <td>2</td>\n",
       "      <td>4.0</td>\n",
       "      <td>1.30 GHz</td>\n",
       "      <td>3.60 GHz</td>\n",
       "      <td>...</td>\n",
       "      <td>Yes</td>\n",
       "      <td>Yes</td>\n",
       "      <td>Yes</td>\n",
       "      <td>64-bit</td>\n",
       "      <td>SSE4.1/4.2, AVX 2.0</td>\n",
       "      <td>Yes</td>\n",
       "      <td>Yes</td>\n",
       "      <td>Yes</td>\n",
       "      <td>Yes</td>\n",
       "      <td>393.0</td>\n",
       "    </tr>\n",
       "    <tr>\n",
       "      <th>1</th>\n",
       "      <td>8th Generation Intel® Core™ i5 Processors</td>\n",
       "      <td>Mobile</td>\n",
       "      <td>i5-8250U</td>\n",
       "      <td>Launched</td>\n",
       "      <td>Q3'17</td>\n",
       "      <td>14 nm</td>\n",
       "      <td>4</td>\n",
       "      <td>8.0</td>\n",
       "      <td>1.60 GHz</td>\n",
       "      <td>3.40 GHz</td>\n",
       "      <td>...</td>\n",
       "      <td>Yes</td>\n",
       "      <td>Yes</td>\n",
       "      <td>Yes</td>\n",
       "      <td>64-bit</td>\n",
       "      <td>SSE4.1/4.2, AVX 2.0</td>\n",
       "      <td>Yes</td>\n",
       "      <td>Yes</td>\n",
       "      <td>Yes</td>\n",
       "      <td>Yes</td>\n",
       "      <td>297.0</td>\n",
       "    </tr>\n",
       "    <tr>\n",
       "      <th>2</th>\n",
       "      <td>8th Generation Intel® Core™ i7 Processors</td>\n",
       "      <td>Mobile</td>\n",
       "      <td>i7-8550U</td>\n",
       "      <td>Launched</td>\n",
       "      <td>Q3'17</td>\n",
       "      <td>14 nm</td>\n",
       "      <td>4</td>\n",
       "      <td>8.0</td>\n",
       "      <td>1.80 GHz</td>\n",
       "      <td>4.00 GHz</td>\n",
       "      <td>...</td>\n",
       "      <td>Yes</td>\n",
       "      <td>Yes</td>\n",
       "      <td>Yes</td>\n",
       "      <td>64-bit</td>\n",
       "      <td>SSE4.1/4.2, AVX 2.0</td>\n",
       "      <td>Yes</td>\n",
       "      <td>Yes</td>\n",
       "      <td>Yes</td>\n",
       "      <td>Yes</td>\n",
       "      <td>409.0</td>\n",
       "    </tr>\n",
       "    <tr>\n",
       "      <th>3</th>\n",
       "      <td>Intel® Core™ X-series Processors</td>\n",
       "      <td>Desktop</td>\n",
       "      <td>i7-3820</td>\n",
       "      <td>End of Life</td>\n",
       "      <td>Q1'12</td>\n",
       "      <td>32 nm</td>\n",
       "      <td>4</td>\n",
       "      <td>8.0</td>\n",
       "      <td>3.60 GHz</td>\n",
       "      <td>3.80 GHz</td>\n",
       "      <td>...</td>\n",
       "      <td>Yes</td>\n",
       "      <td>Yes</td>\n",
       "      <td>Yes</td>\n",
       "      <td>64-bit</td>\n",
       "      <td>SSE4.2, AVX, AES</td>\n",
       "      <td>Yes</td>\n",
       "      <td>Yes</td>\n",
       "      <td>NaN</td>\n",
       "      <td>Yes</td>\n",
       "      <td>305.0</td>\n",
       "    </tr>\n",
       "    <tr>\n",
       "      <th>4</th>\n",
       "      <td>7th Generation Intel® Core™ i5 Processors</td>\n",
       "      <td>Mobile</td>\n",
       "      <td>i5-7Y57</td>\n",
       "      <td>Launched</td>\n",
       "      <td>Q1'17</td>\n",
       "      <td>14 nm</td>\n",
       "      <td>2</td>\n",
       "      <td>4.0</td>\n",
       "      <td>1.20 GHz</td>\n",
       "      <td>3.30 GHz</td>\n",
       "      <td>...</td>\n",
       "      <td>Yes</td>\n",
       "      <td>Yes</td>\n",
       "      <td>Yes</td>\n",
       "      <td>64-bit</td>\n",
       "      <td>SSE4.1/4.2, AVX 2.0</td>\n",
       "      <td>Yes</td>\n",
       "      <td>Yes</td>\n",
       "      <td>Yes</td>\n",
       "      <td>Yes</td>\n",
       "      <td>281.0</td>\n",
       "    </tr>\n",
       "  </tbody>\n",
       "</table>\n",
       "<p>5 rows × 42 columns</p>\n",
       "</div>"
      ],
      "text/plain": [
       "                          Product_Collection Vertical_Segment  \\\n",
       "0  7th Generation Intel® Core™ i7 Processors           Mobile   \n",
       "1  8th Generation Intel® Core™ i5 Processors           Mobile   \n",
       "2  8th Generation Intel® Core™ i7 Processors           Mobile   \n",
       "3           Intel® Core™ X-series Processors          Desktop   \n",
       "4  7th Generation Intel® Core™ i5 Processors           Mobile   \n",
       "\n",
       "  Processor_Number       Status Launch_Date Lithography  nb_of_Cores  \\\n",
       "0          i7-7Y75     Launched       Q3'16       14 nm            2   \n",
       "1         i5-8250U     Launched       Q3'17       14 nm            4   \n",
       "2         i7-8550U     Launched       Q3'17       14 nm            4   \n",
       "3          i7-3820  End of Life       Q1'12       32 nm            4   \n",
       "4          i5-7Y57     Launched       Q1'17       14 nm            2   \n",
       "\n",
       "   nb_of_Threads Processor_Base_Frequency Max_Turbo_Frequency  ...    \\\n",
       "0            4.0                 1.30 GHz            3.60 GHz  ...     \n",
       "1            8.0                 1.60 GHz            3.40 GHz  ...     \n",
       "2            8.0                 1.80 GHz            4.00 GHz  ...     \n",
       "3            8.0                 3.60 GHz            3.80 GHz  ...     \n",
       "4            4.0                 1.20 GHz            3.30 GHz  ...     \n",
       "\n",
       "  Intel_Hyper_Threading_Technology_ Intel_Virtualization_Technology_VTx_  \\\n",
       "0                               Yes                                  Yes   \n",
       "1                               Yes                                  Yes   \n",
       "2                               Yes                                  Yes   \n",
       "3                               Yes                                  Yes   \n",
       "4                               Yes                                  Yes   \n",
       "\n",
       "  Intel_64_ Instruction_Set Instruction_Set_Extensions Idle_States  \\\n",
       "0       Yes          64-bit        SSE4.1/4.2, AVX 2.0         Yes   \n",
       "1       Yes          64-bit        SSE4.1/4.2, AVX 2.0         Yes   \n",
       "2       Yes          64-bit        SSE4.1/4.2, AVX 2.0         Yes   \n",
       "3       Yes          64-bit           SSE4.2, AVX, AES         Yes   \n",
       "4       Yes          64-bit        SSE4.1/4.2, AVX 2.0         Yes   \n",
       "\n",
       "  Thermal_Monitoring_Technologies  Secure_Key Execute_Disable_Bit  price  \n",
       "0                             Yes         Yes                 Yes  393.0  \n",
       "1                             Yes         Yes                 Yes  297.0  \n",
       "2                             Yes         Yes                 Yes  409.0  \n",
       "3                             Yes         NaN                 Yes  305.0  \n",
       "4                             Yes         Yes                 Yes  281.0  \n",
       "\n",
       "[5 rows x 42 columns]"
      ]
     },
     "execution_count": 15,
     "metadata": {},
     "output_type": "execute_result"
    }
   ],
   "source": [
    "cpu = pd.read_csv(\"../data/Intel_CPUs.csv\")\n",
    "cpu[\"price\"] = cpu[\"Recommended_Customer_Price\"].apply(get_price)\n",
    "cpu.drop([\"Recommended_Customer_Price\",\"Support_4k\",\"Processor_Graphics_\",\"OpenGL_Support\"],axis=1,inplace=True)\n",
    "cpu.head()"
   ]
  },
  {
   "cell_type": "code",
   "execution_count": 42,
   "metadata": {
    "collapsed": false
   },
   "outputs": [
    {
     "data": {
      "text/plain": [
       "4.0     529\n",
       "8.0     302\n",
       "2.0     231\n",
       "12.0     82\n",
       "16.0     79\n",
       "20.0     48\n",
       "24.0     35\n",
       "1.0      21\n",
       "28.0     19\n",
       "32.0     18\n",
       "36.0     17\n",
       "30.0     10\n",
       "40.0      7\n",
       "48.0      7\n",
       "6.0       6\n",
       "44.0      6\n",
       "56.0      5\n",
       "52.0      3\n",
       "10.0      2\n",
       "Name: nb_of_Threads, dtype: int64"
      ]
     },
     "execution_count": 42,
     "metadata": {},
     "output_type": "execute_result"
    }
   ],
   "source": [
    "cpu[\"nb_of_Threads\"].value_counts()"
   ]
  },
  {
   "cell_type": "code",
   "execution_count": 26,
   "metadata": {
    "collapsed": false
   },
   "outputs": [
    {
     "data": {
      "text/plain": [
       "(704, 6)"
      ]
     },
     "execution_count": 26,
     "metadata": {},
     "output_type": "execute_result"
    }
   ],
   "source": [
    "cpu_sub = cpu[[\"price\",\"nb_of_Threads\",\"Vertical_Segment\",\"Status\",\"nb_of_Cores\",\"Lithography\"]].dropna()\n",
    "cpu_sub.shape"
   ]
  },
  {
   "cell_type": "code",
   "execution_count": 29,
   "metadata": {
    "collapsed": false
   },
   "outputs": [
    {
     "name": "stdout",
     "output_type": "stream",
     "text": [
      "<class 'pandas.core.frame.DataFrame'>\n",
      "Int64Index: 704 entries, 0 to 2282\n",
      "Data columns (total 6 columns):\n",
      "price               704 non-null float64\n",
      "nb_of_Threads       704 non-null float64\n",
      "Vertical_Segment    704 non-null object\n",
      "Status              704 non-null object\n",
      "nb_of_Cores         704 non-null int64\n",
      "Lithography         704 non-null object\n",
      "dtypes: float64(2), int64(1), object(3)\n",
      "memory usage: 38.5+ KB\n"
     ]
    }
   ],
   "source": [
    "cpu_sub.info()"
   ]
  },
  {
   "cell_type": "markdown",
   "metadata": {},
   "source": [
    "# Create a faceted plot in ggplot use size, shape and color as well as facets"
   ]
  },
  {
   "cell_type": "code",
   "execution_count": 46,
   "metadata": {
    "collapsed": false
   },
   "outputs": [
    {
     "data": {
      "image/png": "[encoded data removed]",
      "text/plain": [
       "<matplotlib.figure.Figure at 0x16fc4e272e8>"
      ]
     },
     "metadata": {},
     "output_type": "display_data"
    },
    {
     "data": {
      "text/plain": [
       "<ggplot: (98722481430)>"
      ]
     },
     "execution_count": 46,
     "metadata": {},
     "output_type": "execute_result"
    }
   ],
   "source": [
    "p = ggplot(cpu,aes(x=\"price\", y=\"nb_of_Cores \", color=\"Status\", shape =\"Status\", size=\"nb_of_Threads\")) + geom_point() \\\n",
    "+ facet_grid(\"Vertical_Segment\") \n",
    "p + xlab(\"price\") + ylab(\"number of Cores\")"
   ]
  },
  {
   "cell_type": "markdown",
   "metadata": {},
   "source": [
    "# Create a Correlation Heatmap in Seaborn "
   ]
  },
  {
   "cell_type": "code",
   "execution_count": 90,
   "metadata": {
    "collapsed": false
   },
   "outputs": [
    {
     "data": {
      "text/plain": [
       "<matplotlib.axes._subplots.AxesSubplot at 0x27c6ca55cc0>"
      ]
     },
     "execution_count": 90,
     "metadata": {},
     "output_type": "execute_result"
    },
    {
     "data": {
      "image/png": "[encoded data removed]",
      "text/plain": [
       "<matplotlib.figure.Figure at 0x27c6c68a9b0>"
      ]
     },
     "metadata": {},
     "output_type": "display_data"
    }
   ],
   "source": [
    "plt.figure(figsize = (8,6))\n",
    "sns.heatmap(cpu.corr(),cmap='coolwarm',annot=True)"
   ]
  },
  {
   "cell_type": "markdown",
   "metadata": {},
   "source": [
    "# Create your own Test and Training sets "
   ]
  },
  {
   "cell_type": "code",
   "execution_count": 84,
   "metadata": {
    "collapsed": false
   },
   "outputs": [
    {
     "data": {
      "text/html": [
       "<div>\n",
       "<style scoped>\n",
       "    .dataframe tbody tr th:only-of-type {\n",
       "        vertical-align: middle;\n",
       "    }\n",
       "\n",
       "    .dataframe tbody tr th {\n",
       "        vertical-align: top;\n",
       "    }\n",
       "\n",
       "    .dataframe thead th {\n",
       "        text-align: right;\n",
       "    }\n",
       "</style>\n",
       "<table border=\"1\" class=\"dataframe\">\n",
       "  <thead>\n",
       "    <tr style=\"text-align: right;\">\n",
       "      <th></th>\n",
       "      <th>Product_Collection</th>\n",
       "      <th>Vertical_Segment</th>\n",
       "      <th>Processor_Number</th>\n",
       "      <th>Status</th>\n",
       "      <th>Launch_Date</th>\n",
       "      <th>Lithography</th>\n",
       "      <th>nb_of_Cores</th>\n",
       "      <th>nb_of_Threads</th>\n",
       "      <th>Processor_Base_Frequency</th>\n",
       "      <th>Max_Turbo_Frequency</th>\n",
       "      <th>...</th>\n",
       "      <th>T</th>\n",
       "      <th>Intel_Hyper_Threading_Technology_</th>\n",
       "      <th>Intel_Virtualization_Technology_VTx_</th>\n",
       "      <th>Intel_64_</th>\n",
       "      <th>Instruction_Set</th>\n",
       "      <th>Instruction_Set_Extensions</th>\n",
       "      <th>Idle_States</th>\n",
       "      <th>Thermal_Monitoring_Technologies</th>\n",
       "      <th>Secure_Key</th>\n",
       "      <th>Execute_Disable_Bit</th>\n",
       "    </tr>\n",
       "  </thead>\n",
       "  <tbody>\n",
       "    <tr>\n",
       "      <th>1170</th>\n",
       "      <td>Intel® Xeon® Processor W Family</td>\n",
       "      <td>Server</td>\n",
       "      <td>W-2155</td>\n",
       "      <td>Launched</td>\n",
       "      <td>Q3'17</td>\n",
       "      <td>14 nm</td>\n",
       "      <td>10</td>\n",
       "      <td>20.0</td>\n",
       "      <td>3.30 GHz</td>\n",
       "      <td>4.50 GHz</td>\n",
       "      <td>...</td>\n",
       "      <td>68</td>\n",
       "      <td>Yes</td>\n",
       "      <td>Yes</td>\n",
       "      <td>Yes</td>\n",
       "      <td>64-bit</td>\n",
       "      <td>Intel® SSE4.2, Intel® AVX, Intel® AVX2, Intel®...</td>\n",
       "      <td>Yes</td>\n",
       "      <td>Yes</td>\n",
       "      <td>Yes</td>\n",
       "      <td>Yes</td>\n",
       "    </tr>\n",
       "    <tr>\n",
       "      <th>278</th>\n",
       "      <td>Legacy Intel® Pentium® Processor</td>\n",
       "      <td>Mobile</td>\n",
       "      <td>T2130</td>\n",
       "      <td>End of Interactive Support</td>\n",
       "      <td>Q2'07</td>\n",
       "      <td>65 nm</td>\n",
       "      <td>2</td>\n",
       "      <td>NaN</td>\n",
       "      <td>1.86 GHz</td>\n",
       "      <td>NaN</td>\n",
       "      <td>...</td>\n",
       "      <td>100°C</td>\n",
       "      <td>No</td>\n",
       "      <td>Yes</td>\n",
       "      <td>No</td>\n",
       "      <td>32-bit</td>\n",
       "      <td>NaN</td>\n",
       "      <td>No</td>\n",
       "      <td>NaN</td>\n",
       "      <td>NaN</td>\n",
       "      <td>Yes</td>\n",
       "    </tr>\n",
       "    <tr>\n",
       "      <th>1919</th>\n",
       "      <td>Legacy Intel® Celeron® Processor</td>\n",
       "      <td>Desktop</td>\n",
       "      <td>NaN</td>\n",
       "      <td>End of Interactive Support</td>\n",
       "      <td>NaN</td>\n",
       "      <td>180 nm</td>\n",
       "      <td>1</td>\n",
       "      <td>NaN</td>\n",
       "      <td>633 MHz</td>\n",
       "      <td>NaN</td>\n",
       "      <td>...</td>\n",
       "      <td>82°C</td>\n",
       "      <td>No</td>\n",
       "      <td>No</td>\n",
       "      <td>No</td>\n",
       "      <td>32-bit</td>\n",
       "      <td>NaN</td>\n",
       "      <td>No</td>\n",
       "      <td>NaN</td>\n",
       "      <td>NaN</td>\n",
       "      <td>No</td>\n",
       "    </tr>\n",
       "  </tbody>\n",
       "</table>\n",
       "<p>3 rows × 41 columns</p>\n",
       "</div>"
      ],
      "text/plain": [
       "                    Product_Collection Vertical_Segment Processor_Number  \\\n",
       "1170   Intel® Xeon® Processor W Family           Server           W-2155   \n",
       "278   Legacy Intel® Pentium® Processor           Mobile            T2130   \n",
       "1919  Legacy Intel® Celeron® Processor          Desktop              NaN   \n",
       "\n",
       "                          Status Launch_Date Lithography  nb_of_Cores  \\\n",
       "1170                    Launched       Q3'17       14 nm           10   \n",
       "278   End of Interactive Support       Q2'07       65 nm            2   \n",
       "1919  End of Interactive Support         NaN      180 nm            1   \n",
       "\n",
       "      nb_of_Threads Processor_Base_Frequency Max_Turbo_Frequency  \\\n",
       "1170           20.0                 3.30 GHz            4.50 GHz   \n",
       "278             NaN                 1.86 GHz                 NaN   \n",
       "1919            NaN                  633 MHz                 NaN   \n",
       "\n",
       "             ...              T Intel_Hyper_Threading_Technology_  \\\n",
       "1170         ...             68                               Yes   \n",
       "278          ...          100°C                                No   \n",
       "1919         ...           82°C                                No   \n",
       "\n",
       "     Intel_Virtualization_Technology_VTx_ Intel_64_ Instruction_Set  \\\n",
       "1170                                  Yes       Yes          64-bit   \n",
       "278                                   Yes        No          32-bit   \n",
       "1919                                   No        No          32-bit   \n",
       "\n",
       "                             Instruction_Set_Extensions Idle_States  \\\n",
       "1170  Intel® SSE4.2, Intel® AVX, Intel® AVX2, Intel®...         Yes   \n",
       "278                                                 NaN          No   \n",
       "1919                                                NaN          No   \n",
       "\n",
       "      Thermal_Monitoring_Technologies Secure_Key Execute_Disable_Bit  \n",
       "1170                              Yes        Yes                 Yes  \n",
       "278                               NaN        NaN                 Yes  \n",
       "1919                              NaN        NaN                  No  \n",
       "\n",
       "[3 rows x 41 columns]"
      ]
     },
     "execution_count": 84,
     "metadata": {},
     "output_type": "execute_result"
    }
   ],
   "source": [
    "X = cpu.drop(\"price\",axis=1)\n",
    "y = cpu[\"price\"]\n",
    "X_train, X_test, y_train, y_test = train_test_split(X, y, test_size=0.3, random_state=0)\n",
    "X_train.head(3)"
   ]
  }
 ],
 "metadata": {
  "kernelspec": {
   "display_name": "Python 3",
   "language": "python",
   "name": "python3"
  },
  "language_info": {
   "codemirror_mode": {
    "name": "ipython",
    "version": 3
   },
   "file_extension": ".py",
   "mimetype": "text/x-python",
   "name": "python",
   "nbconvert_exporter": "python",
   "pygments_lexer": "ipython3",
   "version": "3.6.0"
  }
 },
 "nbformat": 4,
 "nbformat_minor": 2
}
